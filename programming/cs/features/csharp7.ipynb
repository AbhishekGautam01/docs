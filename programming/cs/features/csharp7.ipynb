{
 "cells": [
  {
   "cell_type": "markdown",
   "metadata": {},
   "source": [
    "## Out variable\n",
    "* In CS7, the variable deceleration is an expression and not a statement so it can be done where out is being used. \n",
    "* the variable is also accessible outside the block where it is declared.\n",
    "* if the parsing fails, the default value for that type is assigned."
   ]
  },
  {
   "cell_type": "code",
   "execution_count": null,
   "metadata": {
    "dotnet_interactive": {
     "language": "csharp"
    },
    "polyglot_notebook": {
     "kernelName": "csharp"
    }
   },
   "outputs": [],
   "source": [
    "if(DateTime.TryParse(\"01/01/2032\", out var dt)){\n",
    "    Console.WriteLine(dt);\n",
    "}\n",
    "Console.WriteLine(dt.Hour); // the variable is also accessible outside the block where it is declared.\n",
    "int.TryParse(\"abc\", out var number);\n",
    "Console.WriteLine(number);"
   ]
  },
  {
   "cell_type": "markdown",
   "metadata": {},
   "source": [
    "## Pattern Matching\n",
    "* Traditionally we used to use is and as operator but now both usage can be combined and is simplified. \n",
    "* We can also assert if some object is not a type of a certain object. \n",
    "* This is also supported in switch statement \n",
    "* Additionally while writing switch case we can easily, use `when`"
   ]
  },
  {
   "cell_type": "code",
   "execution_count": null,
   "metadata": {
    "dotnet_interactive": {
     "language": "csharp"
    },
    "polyglot_notebook": {
     "kernelName": "csharp"
    }
   },
   "outputs": [],
   "source": [
    "// BEFORE C# 7 we used to use as & is operator\n",
    "public class Shape{}\n",
    "public class Rectangle : Shape {}\n",
    "public class Circle: Shape {}\n",
    "\n",
    "static class Demo {\n",
    "    public static void DisplayShape(Shape shape){\n",
    "        // OLD Approach 1: Using is operator then casting type.\n",
    "        if(shape is Rectangle){\n",
    "                var rect = (Rectangle)shape;\n",
    "            }\n",
    "\n",
    "        // OLD Approach 2: Using as operator then null checking.\n",
    "        var rectangle = shape as Rectangle;\n",
    "        if(rectangle != null){\n",
    "            Console.WriteLine(\"Shape is a valid Rectangle\");\n",
    "        }\n",
    "    }\n",
    "}"
   ]
  },
  {
   "cell_type": "markdown",
   "metadata": {},
   "source": [
    "#### New way to do pattern matching in C# 7"
   ]
  },
  {
   "cell_type": "code",
   "execution_count": null,
   "metadata": {
    "dotnet_interactive": {
     "language": "csharp"
    },
    "polyglot_notebook": {
     "kernelName": "csharp"
    }
   },
   "outputs": [],
   "source": [
    "// In C# 7 we can combine both the steps for casting thing\n",
    "public class Shape { }\n",
    "public class Rectangle : Shape\n",
    "{\n",
    "    public int height { get; set; }\n",
    "    public int weidth { get; set; }\n",
    "}\n",
    "public class Circle : Shape { }\n",
    "\n",
    "static class Demo\n",
    "{\n",
    "    public static void DisplayShape(Shape shape)\n",
    "    {\n",
    "        // Using is and as combination\n",
    "        if (shape is Rectangle r)\n",
    "            Console.WriteLine(\"Shape is rectangle\");\n",
    "\n",
    "        // perfomring not the type assertions\n",
    "        if (!(shape is Circle notCircle))\n",
    "            Console.WriteLine(\"Shape is not circle\");\n",
    "\n",
    "        //Switch Statement  also supports when\n",
    "        switch (shape)\n",
    "        {\n",
    "            case Circle circle:\n",
    "                Console.WriteLine(\"Shape is a circle\");\n",
    "                break;\n",
    "            case Rectangle square when (square.height == square.weidth):\n",
    "                Console.WriteLine(\"Shape is a sqaure\");\n",
    "                break;\n",
    "        }\n",
    "\n",
    "        //Switch is not available on tuple which is available in F#\n",
    "    }\n",
    "}\n",
    "\n",
    "Rectangle r = new Rectangle{\n",
    "    height = 1,\n",
    "    weidth = 1,\n",
    "};\n",
    "\n",
    "Demo.DisplayShape(r);"
   ]
  },
  {
   "cell_type": "markdown",
   "metadata": {},
   "source": [
    "## Tuple \n",
    "* In old approach: "
   ]
  },
  {
   "cell_type": "code",
   "execution_count": null,
   "metadata": {
    "dotnet_interactive": {
     "language": "csharp"
    },
    "polyglot_notebook": {
     "kernelName": "csharp"
    }
   },
   "outputs": [],
   "source": [
    "static Tuple<double, double> SumAndProduct(double a, double b)\n",
    "{\n",
    "    return Tuple.Create(a + b, a * b);\n",
    "}\n",
    "\n",
    "var sp = SumAndProduct(2, 5);\n",
    "Console.WriteLine($\"Sum: {sp.Item1} and Product: {sp.Item2}\"); //Fun ends here as we dont know what item1 & item 2"
   ]
  },
  {
   "cell_type": "markdown",
   "metadata": {},
   "source": [
    "* This was fixed in the C# 7 as "
   ]
  },
  {
   "cell_type": "code",
   "execution_count": null,
   "metadata": {
    "dotnet_interactive": {
     "language": "csharp"
    },
    "polyglot_notebook": {
     "kernelName": "csharp"
    }
   },
   "outputs": [],
   "source": [
    "static (double sum, double product) NewSumAndProduct(double x, double y)\n",
    "{\n",
    "    return (x + y, x * y);\n",
    "}\n",
    "// Named Touple: Item1 & Item2 are still available inside elements property. If we use var then type if automatically inffered. \n",
    "var (addition, multiplication) = NewSumAndProduct(2, 5);\n",
    "Console.WriteLine($\"Sum: {addition} Porduct: {multiplication}\"); // referencing by own local variable names\n",
    "\n",
    "var sumAndProduct = NewSumAndProduct(5, 5);\n",
    "Console.WriteLine($\"Sum: {sumAndProduct.sum} Porduct: {sumAndProduct.product}\"); //referencing by name given in function declaration\n",
    "\n",
    "(double ss, double pp) = NewSumAndProduct(10, 10); //Giving own types and names which is not possible if we use var in above line.\n",
    "\n",
    "double s, p;\n",
    "(s,p) = NewSumAndProduct(100, 100);\n",
    "\n",
    "// Inline touple declaration.\n",
    "var me = (name: \"Abhishek\", age: 123);\n",
    "Console.WriteLine($\"My name is {me.name} and age: {me.age}\");\n",
    "Console.WriteLine(me.GetType());\n",
    "Console.WriteLine(sumAndProduct.GetType()); //Generic value touple type.\n",
    "\n",
    "// Touples can be used in func as well\n",
    "\n",
    "var snp = new Func<double, double , (double sum, double product)>((a, b) => (a + b, a* b));\n",
    "var result = snp(1,2);\n",
    "Console.WriteLine($\"{result.sum} | {result.product}\")"
   ]
  },
  {
   "cell_type": "markdown",
   "metadata": {},
   "source": [
    "## Deconstruction\n",
    "* This came after tuple but it is not limited to tuple."
   ]
  },
  {
   "cell_type": "code",
   "execution_count": null,
   "metadata": {
    "dotnet_interactive": {
     "language": "csharp"
    },
    "polyglot_notebook": {
     "kernelName": "csharp"
    }
   },
   "outputs": [],
   "source": [
    "//TYPE DECONSTRUCTION: We need to mention point type is de constructible by adding a deconstruct function.\n",
    "public class Point\n",
    "{\n",
    "    public int x; public int y;\n",
    "\n",
    "    public void Deconstruct(out int x, out int y)\n",
    "    {\n",
    "        x = this.x;\n",
    "        y = this.y;\n",
    "    }\n",
    "}\n",
    "\n",
    "\n",
    "var myPoint = new Point() { x = 1, y = 2};\n",
    "var (xCordinate, yCordinate) = myPoint;\n",
    "\n",
    "Console.WriteLine($\"X: {xCordinate}\");\n",
    "\n",
    "// TUPLE Deconstruct\n",
    "var (addition, _) = NewSumAndProduct(2, 5);\n",
    "Console.WriteLine($\"Sum: {addition}\");"
   ]
  },
  {
   "cell_type": "markdown",
   "metadata": {},
   "source": [
    "## Local Function\n",
    "* Function defined within a function body. \n",
    "* benefit over private static function is that private static functions are available to all memebers of class where as local function can be made available to only a specific function.\n",
    "* The scope rules are same and local function can be declared even after the use of function.\n"
   ]
  },
  {
   "cell_type": "code",
   "execution_count": null,
   "metadata": {
    "dotnet_interactive": {
     "language": "csharp"
    },
    "polyglot_notebook": {
     "kernelName": "csharp"
    }
   },
   "outputs": [],
   "source": [
    "\n",
    "public class EquationSolver\n",
    "{\n",
    "    public static Tuple<double , double> SolveQuadratic(double a, double b, double c)\n",
    "    {\n",
    "        //OLD WAY of putting function inside a function or we can create this as a private static member function.\n",
    "        var calculateDiscriminant = new Func<double, double, double, double>(\n",
    "            (aa, bb, cc) => bb * bb - 4 * aa * cc);\n",
    "\n",
    "        var disc = calculateDiscriminant(a, b, c);\n",
    "        var rootDisc = Math.Sqrt(disc);\n",
    "        return Tuple.Create((-b -rootDisc) / (2*a), (-b + rootDisc) / (2 * a));\n",
    "    }\n",
    "\n",
    "    // IN C# 7 we can define it right inside the body\n",
    "\n",
    "    public static Tuple<double, double> SolveQuadraticNewWay(double a, double b, double c)\n",
    "    {\n",
    "        // All scopre rules for function applies to this so we can declare it even after it is being used.\n",
    "        // Function within a function body\n",
    "        double CalculateDiscriminant(double aa, double bb, double cc)\n",
    "        {\n",
    "            return bb * bb - 4 * aa * cc;\n",
    "        }\n",
    "\n",
    "        // we can also use lambla approach\n",
    "\n",
    "        double CalculateDiscriminantLambda()\n",
    "        {\n",
    "            return b * b - 4 * a * c;\n",
    "        }\n",
    "\n",
    "        var disc = CalculateDiscriminant(a, b, c);\n",
    "        var rootDisc = Math.Sqrt(disc);\n",
    "        return Tuple.Create((-b - rootDisc) / (2 * a), (-b + rootDisc) / (2 * a));\n",
    "    }\n",
    "}"
   ]
  },
  {
   "cell_type": "markdown",
   "metadata": {},
   "source": [
    "## Ref returns and local\n",
    "* It allows making references to local variables."
   ]
  },
  {
   "cell_type": "code",
   "execution_count": null,
   "metadata": {
    "dotnet_interactive": {
     "language": "csharp"
    },
    "polyglot_notebook": {
     "kernelName": "csharp"
    }
   },
   "outputs": [],
   "source": [
    "using System.Reflection;\n",
    "using System.Runtime.CompilerServices;\n",
    "\n",
    "int[] numbers = { 1, 2, 3 };\n",
    "// ref to second now references the second element so any chances made to refToSecond now impact the 2nd item in numbers array\n",
    "ref int refToSecond = ref numbers[1];\n",
    "var valueOfSecond  = refToSecond;\n",
    "refToSecond = 123;\n",
    "Console.WriteLine(string.Join(',', numbers));\n",
    "\n",
    "// We cannot rebind a reference \n",
    "// refToSecond = ref numbers[0]; \n",
    "\n",
    "// Even if array is resized the refToSecond will continue to hold the value\n",
    "\n",
    "// This will not work on list. This is a constraint. \n",
    "\n",
    "\n",
    "static ref int Find(int[] numbers, int value)\n",
    "{\n",
    "    for (int i = 0; i < numbers.Length; i++)\n",
    "    {\n",
    "        if (numbers[i] == value)\n",
    "            return ref numbers[i];\n",
    "    }\n",
    "\n",
    "    // Now it is return by reference so we can't return also we cannot return local reference.\n",
    "    //return -1;\n",
    "    //int find = -1;\n",
    "    //return ref find;\n",
    "\n",
    "    //approch is to throw the exception\n",
    "    throw new ArgumentException(\"meh\");\n",
    "}\n",
    "\n",
    "// This will allow abuse of language. \n",
    "// Now we can do function assignment as it returns a reference\n",
    "Find(numbers, 1) = 555;\n",
    "\n",
    "\n",
    "static ref int Min(ref int x, ref int y)\n",
    "{\n",
    "    // this would not work, you have to write a full function with if statement\n",
    "    // return x < y ? x : y;\n",
    "    // return x < y ? (ref x) : (ref y);\n",
    "}\n",
    " int a  = 5, b = 6;\n",
    "int minValue = Min(ref a, ref b); // this will be value type\n",
    "ref int minValue2 = ref Min(ref a, ref b);"
   ]
  },
  {
   "cell_type": "markdown",
   "metadata": {},
   "source": [
    "## Expression Bodied Members \n",
    "* This lets you shorten the body of method but now same idea is applied to other things like constructors, getter and setters. \n",
    "* below are the new possibilities which was contributed by community.\n",
    "* **NOTE**: This would only work if we have single line statements."
   ]
  },
  {
   "cell_type": "code",
   "execution_count": null,
   "metadata": {
    "dotnet_interactive": {
     "language": "csharp"
    },
    "polyglot_notebook": {
     "kernelName": "csharp"
    }
   },
   "outputs": [],
   "source": [
    "public class Person\n",
    "{\n",
    "    private int id;\n",
    "    private static readonly Dictionary<int, string> names = new Dictionary<int, string>();\n",
    "\n",
    "    public Person(int id , string name) => names.Add(id, name);\n",
    "\n",
    "    ~Person() => names.Remove(id);\n",
    "\n",
    "    public string Name\n",
    "    {\n",
    "        get => names[id];\n",
    "        set => names[id] = value;\n",
    "    }\n",
    "}"
   ]
  },
  {
   "cell_type": "markdown",
   "metadata": {},
   "source": [
    "## Throw Expressions\n",
    "* Now expression can contain a throw statement"
   ]
  },
  {
   "cell_type": "code",
   "execution_count": null,
   "metadata": {
    "dotnet_interactive": {
     "language": "csharp"
    },
    "polyglot_notebook": {
     "kernelName": "csharp"
    }
   },
   "outputs": [],
   "source": [
    "public class Demo\n",
    "{\n",
    "    public int Age { get; set; }\n",
    "\n",
    "    // Old way\n",
    "    //public Demo(int age)\n",
    "    //{\n",
    "    //    if (age < 0)\n",
    "    //        throw new ArgumentException();\n",
    "    //    Age = age;\n",
    "    //}\n",
    "\n",
    "    //New Syntax \n",
    "    public Demo(int age)\n",
    "    {\n",
    "        Age = age > 0 ? age : throw new ArgumentException();\n",
    "    }\n",
    "}\n",
    "\n"
   ]
  },
  {
   "cell_type": "markdown",
   "metadata": {},
   "source": [
    "# Generalized Async Return Type\n",
    "* One constraint was that async method were required void, Task, Task<T>"
   ]
  },
  {
   "cell_type": "code",
   "execution_count": null,
   "metadata": {
    "dotnet_interactive": {
     "language": "csharp"
    },
    "polyglot_notebook": {
     "kernelName": "csharp"
    }
   },
   "outputs": [],
   "source": [
    "using System.IO;\n",
    "\n",
    "public class Demo\n",
    "{\n",
    "   public static async Task<long> GetDirSize(string dir)\n",
    "    {\n",
    "        if(!Directory.EnumerateFileSystemEntries(dir).Any())\n",
    "            return 0; // a task is created even if directory is empty\n",
    "\n",
    "        return await Task.Run(() =>\n",
    "            Directory.GetFiles(dir, \"*.*\", SearchOption.AllDirectories)\n",
    "            .Sum(f => new FileInfo(f).Length)\n",
    "        );\n",
    "    }\n",
    "}\n",
    "\n",
    "\n",
    "// Package : System.Threading.Task.Extensions\n",
    "\n",
    "public class Demo1\n",
    "{\n",
    "    public static async ValueTask<long> GetDirSize(string dir)\n",
    "    {\n",
    "        if (!Directory.EnumerateFileSystemEntries(dir).Any())\n",
    "            return 0; // a task is created even if directory is empty\n",
    "\n",
    "        return await Task.Run(() =>\n",
    "            Directory.GetFiles(dir, \"*.*\", SearchOption.AllDirectories)\n",
    "            .Sum(f => new FileInfo(f).Length)\n",
    "        );\n",
    "    }\n",
    "}\n"
   ]
  },
  {
   "cell_type": "markdown",
   "metadata": {},
   "source": [
    "## Literal Improvements\n",
    "* Improvements in defining literals for readability."
   ]
  },
  {
   "cell_type": "code",
   "execution_count": null,
   "metadata": {
    "dotnet_interactive": {
     "language": "csharp"
    },
    "polyglot_notebook": {
     "kernelName": "csharp"
    }
   },
   "outputs": [],
   "source": [
    "int a = 123_3_21;// This is for seperating millions, thousands for readability purposes.\n",
    "int b = 123_321____123; //All the extra delimiters will be ignored.\n",
    "long h = 0XAB_BC_D123EF; //works with hexa decimal.\n",
    "var binary = 0b1110_0100_0111;"
   ]
  }
 ],
 "metadata": {
  "kernelspec": {
   "display_name": ".NET (C#)",
   "language": "C#",
   "name": ".net-csharp"
  },
  "language_info": {
   "name": "polyglot-notebook"
  },
  "polyglot_notebook": {
   "kernelInfo": {
    "defaultKernelName": "csharp",
    "items": [
     {
      "aliases": [],
      "languageName": "csharp",
      "name": "csharp"
     }
    ]
   }
  }
 },
 "nbformat": 4,
 "nbformat_minor": 2
}
