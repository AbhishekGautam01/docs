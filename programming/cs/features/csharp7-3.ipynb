{
 "cells": [
  {
   "cell_type": "markdown",
   "metadata": {},
   "source": [
    "# Performance Improvements\n",
    "* Attributes on backing fields of auto properties\n",
    "```csharp \n",
    "    [field: SomeCleverAttribute]\n",
    "    public float SomeAttribute {get; set;}\n",
    "``` \n",
    "\n",
    "* Method overload resolution tie-breaker: If we had a overload of method with and without in operator , this would cause an ambiguity. \n",
    "```csharp\n",
    "// This type of overloading using in used to cause an ambiguity.\n",
    "static void Foo(int bar)\n",
    "static void Foo(in int bar)\n",
    "```\n",
    "* In C# 7.3 the first by value(first) overload is preffered, to include the 2nd overload to be called then it should be called using in keyword.\n",
    "\n",
    "* Extended Operation Variables in initializers\n",
    "* Out variable declarations can happen in: \n",
    "    * Field Initializers\n",
    "    * Property initializers\n",
    "    * Constructor initializers\n",
    "    * Query clauses\n",
    "\n",
    "* Tuples now support == & !=\n",
    "* "
   ]
  }
 ],
 "metadata": {
  "kernelspec": {
   "display_name": ".NET (C#)",
   "language": "C#",
   "name": ".net-csharp"
  },
  "language_info": {
   "name": "polyglot-notebook"
  },
  "polyglot_notebook": {
   "kernelInfo": {
    "defaultKernelName": "csharp",
    "items": [
     {
      "aliases": [],
      "languageName": "csharp",
      "name": "csharp"
     }
    ]
   }
  }
 },
 "nbformat": 4,
 "nbformat_minor": 2
}
