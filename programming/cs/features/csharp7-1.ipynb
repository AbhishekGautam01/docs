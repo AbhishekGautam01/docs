{
 "cells": [
  {
   "cell_type": "markdown",
   "metadata": {},
   "source": [
    "# Async Main\n",
    "* Main method can be marked async and return type can be `Task` or `Task<T>`\n",
    "* We can have multiple classes with Main method within a same project and If we navigate to Project Settings -> Application -> Startup Object as of now it shows in the dropdown only the static void main methods and not the async method for selection. VS hasn't indexed the async main methods yet.s"
   ]
  },
  {
   "cell_type": "code",
   "execution_count": 5,
   "metadata": {
    "dotnet_interactive": {
     "language": "csharp"
    },
    "polyglot_notebook": {
     "kernelName": "csharp"
    }
   },
   "outputs": [],
   "source": [
    "using System.Net.Http;\n",
    "\n",
    "public class Program {\n",
    "\n",
    "private static string url = \"http://google.com/robot.txt\";\n",
    "public static async Task Main(string[] args){\n",
    "        Console.WriteLine(await new HttpClient().GetStringAsync(url));\n",
    "    }\n",
    "}"
   ]
  },
  {
   "cell_type": "markdown",
   "metadata": {},
   "source": [
    "# Default Expressions\n",
    "* Until 7.1 we could write `int a = default(int); DateTime dt = default(DateTime)`\n",
    "* This applies to value types, reference types, const , arrays but not const and nullable together:\n",
    "    * Value types\n",
    "    * Reference Types\n",
    "    * Const\n",
    "    * Array Initialization/assignment\n",
    "    * Comparisons \n",
    "    * return type\n",
    "    * method optional param value"
   ]
  },
  {
   "cell_type": "code",
   "execution_count": null,
   "metadata": {
    "dotnet_interactive": {
     "language": "csharp"
    },
    "polyglot_notebook": {
     "kernelName": "csharp"
    }
   },
   "outputs": [],
   "source": [
    "public class Program{\n",
    "    public static void Main(string[] args){\n",
    "        //Before 7.1\n",
    "        int num = default(int);\n",
    "\n",
    "        //7.1 onwards\n",
    "        int num2 = default;\n",
    "        const int num3 = default;\n",
    "        int? num4 = default;\n",
    "        Console.WriteLine(num4 == null);\n",
    "        //this would not apply to const nullable Types\n",
    "        //const int? num5 = default;\n",
    "\n",
    "        // Using 33 it would know that this is a int type of default will asign default int.    \n",
    "        var nums = new [] {default , 33, default};\n",
    "\n",
    "        //reference Types\n",
    "        string word = default;\n",
    "\n",
    "        //default can work during comparisions.\n",
    "        if(word == default)\n",
    "            Console.WriteLine(\"default can be used in comaprision\");\n",
    "        \n",
    "        //it can be used in expressions as well.\n",
    "        var doublenum = num > 0 ? default : 1.5;\n",
    "    }\n",
    "\n",
    "    //default can be used in method params\n",
    "    public static DateTime GetDateTime(List<int> items = default) {// List<int> items = null\n",
    "     return default; \n",
    "    } \n",
    "}"
   ]
  },
  {
   "cell_type": "markdown",
   "metadata": {},
   "source": [
    "# Ref Assemblies\n",
    "* Here we wan't to compile assembly to not have any implementation property and methods as they wont need them and we want to save our IP without obfuscating out code.\n",
    "* Eg JetBrains exposes whole SDK which has entire product code and this need to be avoided. \n",
    "* To compile our assembly as ref assembly: `csc Person.cs /refout:Demo.dll` or /refonly should be used. \n",
    "* Now if you de compile this dll, the implementation details will be hidden."
   ]
  },
  {
   "cell_type": "code",
   "execution_count": null,
   "metadata": {
    "dotnet_interactive": {
     "language": "csharp"
    },
    "polyglot_notebook": {
     "kernelName": "csharp"
    }
   },
   "outputs": [],
   "source": [
    "public class Person {\n",
    "    private int Id;\n",
    "    protected string Name {get; set;}\n",
    "    public void Hello() => Console.WriteLine($\"Hello! My name is {Name}\");\n",
    "\n",
    "    static void Main(string[] args){\n",
    "\n",
    "    }\n",
    "}"
   ]
  },
  {
   "cell_type": "markdown",
   "metadata": {},
   "source": [
    "# Infer Tuple Names\n",
    "* Tuple names propagate during assignment. \n",
    "* All scenarios covered in below example."
   ]
  },
  {
   "cell_type": "code",
   "execution_count": 9,
   "metadata": {
    "dotnet_interactive": {
     "language": "csharp"
    },
    "polyglot_notebook": {
     "kernelName": "csharp"
    }
   },
   "outputs": [],
   "source": [
    "public class Program {\n",
    "    static void Main(String[] args){\n",
    "        var me = (name: \"Abhishek\", age: 20);\n",
    "        Console.WriteLine(me.name);\n",
    "\n",
    "        var alsoMe = (me.age, me.name);\n",
    "        Console.WriteLine(alsoMe.age); // before C#7 during this items names would be lost and acess would be through Item1 & Item2. SO in later C# Version names propagate.   \n",
    "\n",
    "        var months = new [] {\"Jan\", \"Feb\", \"Mar\"};\n",
    "        months.Select(m => (\n",
    "            m.Length,\n",
    "            FirstChar: m[0]\n",
    "        )).Where(t => t.FirstChar == 'J' && t.Length == 3); // Here even if we dont define Lenght it takes it automatically.\n",
    "    \n",
    "        var now = DateTime.UtcNow;\n",
    "        var nowTuple = (now.Hour, now.Minute);\n",
    "        Console.WriteLine($\"{nowTuple.Hour} & {nowTuple.Minute}\");\n",
    "        (nowTuple.Hour, nowTuple.Minute) = (11, 12); //deconstruction syntax;\n",
    "        // In C# we can assign the result of assignments as well.\n",
    "        var nowTupleAssignment = ((nowTuple.Hour, nowTuple.Minute) = (11, 12));\n",
    "        Console.WriteLine($\"{nowTupleAssignment.Hour} & {nowTupleAssignment.Minute}\");\n",
    "\n",
    "    }\n",
    "}"
   ]
  },
  {
   "cell_type": "markdown",
   "metadata": {},
   "source": [
    "# Pattern Matching in Generics\n",
    "* "
   ]
  },
  {
   "cell_type": "code",
   "execution_count": 10,
   "metadata": {
    "dotnet_interactive": {
     "language": "csharp"
    },
    "polyglot_notebook": {
     "kernelName": "csharp"
    }
   },
   "outputs": [
    {
     "ename": "Error",
     "evalue": "(2,22): error CS0246: The type or namespace name 'stirng' could not be found (are you missing a using directive or an assembly reference?)",
     "output_type": "error",
     "traceback": [
      "(2,22): error CS0246: The type or namespace name 'stirng' could not be found (are you missing a using directive or an assembly reference?)"
     ]
    }
   ],
   "source": [
    "public class Program {\n",
    "    static void Main(string[] args){\n",
    "\n",
    "    }\n",
    "\n",
    "    public static void Cook<T>(T animal) where T : Animal{\n",
    "        // In C# 7.1 below code works but prior versions of C# doesn't support this. \n",
    "        if(animal is Pig pig)\n",
    "\n",
    "        switch(animal){\n",
    "            case Pig pork: \n",
    "            break;\n",
    "        }\n",
    "    }\n",
    "}\n",
    "\n",
    "public class Animal{}\n",
    "public class Pig: Animal{}"
   ]
  }
 ],
 "metadata": {
  "kernelspec": {
   "display_name": ".NET (C#)",
   "language": "C#",
   "name": ".net-csharp"
  },
  "language_info": {
   "name": "polyglot-notebook"
  },
  "polyglot_notebook": {
   "kernelInfo": {
    "defaultKernelName": "csharp",
    "items": [
     {
      "aliases": [],
      "languageName": "csharp",
      "name": "csharp"
     }
    ]
   }
  }
 },
 "nbformat": 4,
 "nbformat_minor": 2
}
