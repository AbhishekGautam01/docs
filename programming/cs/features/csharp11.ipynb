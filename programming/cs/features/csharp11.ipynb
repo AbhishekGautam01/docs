{
 "cells": [
  {
   "cell_type": "markdown",
   "metadata": {},
   "source": [
    "# Required Members\n",
    "* `required` modifiers can be applied to fields and properties to ensure the constructor and callers initialize those values."
   ]
  },
  {
   "cell_type": "code",
   "execution_count": 2,
   "metadata": {
    "dotnet_interactive": {
     "language": "csharp"
    },
    "polyglot_notebook": {
     "kernelName": "csharp"
    }
   },
   "outputs": [
    {
     "ename": "Error",
     "evalue": "(6,14): error CS9035: Required member 'Person.Surname' must be set in the object initializer or attribute constructor.\r\n(12,4): error CS0246: The type or namespace name 'SetsRequiredMembersAttribute' could not be found (are you missing a using directive or an assembly reference?)\r\n(12,4): error CS0246: The type or namespace name 'SetsRequiredMembers' could not be found (are you missing a using directive or an assembly reference?)\r\n(3,13): error CS9035: Required member 'Person.Name' must be set in the object initializer or attribute constructor.\r\n(3,13): error CS9035: Required member 'Person.Surname' must be set in the object initializer or attribute constructor.\r\n(7,13): error CS9035: Required member 'Person.Name' must be set in the object initializer or attribute constructor.\r\n(7,13): error CS9035: Required member 'Person.Surname' must be set in the object initializer or attribute constructor.",
     "output_type": "error",
     "traceback": [
      "(6,14): error CS9035: Required member 'Person.Surname' must be set in the object initializer or attribute constructor.\r\n",
      "(12,4): error CS0246: The type or namespace name 'SetsRequiredMembersAttribute' could not be found (are you missing a using directive or an assembly reference?)\r\n",
      "(12,4): error CS0246: The type or namespace name 'SetsRequiredMembers' could not be found (are you missing a using directive or an assembly reference?)\r\n",
      "(3,13): error CS9035: Required member 'Person.Name' must be set in the object initializer or attribute constructor.\r\n",
      "(3,13): error CS9035: Required member 'Person.Surname' must be set in the object initializer or attribute constructor.\r\n",
      "(7,13): error CS9035: Required member 'Person.Name' must be set in the object initializer or attribute constructor.\r\n",
      "(7,13): error CS9035: Required member 'Person.Surname' must be set in the object initializer or attribute constructor."
     ]
    }
   ],
   "source": [
    "// Initializations with required properties \n",
    "var p1 = new Person { Name = \"Shehryar\", Surname = \"Khan\" }; \n",
    "Person p2 = new Person(\"Shehryar\", \"Khan\");\n",
    "\n",
    "// Initializations with missing required properties \n",
    "var p3 = new Person { Name = \"Shehryar\" }; \n",
    "\n",
    "public class Person {\n",
    "\n",
    "  [SetsRequiredMembers] \n",
    "  public Person(string name, string surname)\n",
    "  {\n",
    "    Name = name; \n",
    "    Surname = surname;\n",
    "  }\n",
    "\n",
    "  public Guid Id { get; set; } = Guid. NewGuid(); \n",
    "  public required string Name { get; set; } \n",
    "  public required string Surname { get; set; }\n",
    "}"
   ]
  }
 ],
 "metadata": {
  "kernelspec": {
   "display_name": ".NET (C#)",
   "language": "C#",
   "name": ".net-csharp"
  },
  "language_info": {
   "name": "polyglot-notebook"
  },
  "polyglot_notebook": {
   "kernelInfo": {
    "defaultKernelName": "csharp",
    "items": [
     {
      "aliases": [],
      "languageName": "csharp",
      "name": "csharp"
     }
    ]
   }
  }
 },
 "nbformat": 4,
 "nbformat_minor": 2
}
