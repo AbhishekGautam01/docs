{
 "cells": [
  {
   "cell_type": "markdown",
   "metadata": {},
   "source": [
    "# Nullable Reference Types\n",
    "* In the below code `MiddleName[0]` can result in null reference exception. \n",
    "* To guard against it, we can use package ReSharper Annotations which can provide annotations like `[CanBeNull]` which can be put to tell static code analyzer to tell this can be null.\n",
    "* In C# 8, We have to opt into this feature, this can be done @ class level by putting a directive `#nullable enable`, this makes c# all property non nullable which will cause warning.\n",
    "* in Compilation it would not make `String?` as `Nullable<String>` as `NUllable<T>` requires a struct or value type so this ? is only for compiler and static code analyzes tool when during final build `String? Middlename` --> `String MiddleName`;\n",
    "\n",
    "<br/>\\\n",
    "\n",
    "* Overriding Null Checks:\n",
    "    * way1: Make type not nullable by not putting ?\n",
    "    * Way2: Write expression with Bang(!):\n",
    "        ```csharp\n",
    "        (null as Person)!.FirstName; // No warning will come due to bang operator\n",
    "        (null as Person)!!!!!!!!!!!!.FirstName; // Also legal code\n",
    "        (null as Person).FirstName; // Compiler understands it is null and gives a warning.\n",
    "        (null as Person)!?.FirstName; //will do null check\n",
    "       //SHould not compile (null as Person)?!.FirstName; \n",
    "        ```"
   ]
  },
  {
   "cell_type": "code",
   "execution_count": 5,
   "metadata": {
    "dotnet_interactive": {
     "language": "csharp"
    },
    "polyglot_notebook": {
     "kernelName": "csharp"
    }
   },
   "outputs": [],
   "source": [
    "# nullable enable \n",
    "public class Person {\n",
    "    public string FirstName {get; set; }\n",
    "    public string? MiddleName {get; set; }\n",
    "    public string LastName {get; set; }\n",
    "\n",
    "    public Person(string firstName , string? middleName , string lastName ) => (FirstName, MiddleName, LastName) = (firstName, middleName, lastName);\n",
    "\n",
    "    // This warning will come due to we have made middleName nullable type. \n",
    "    public string FullName => $\"{FirstName} {MiddleName[0]} {LastName}\";\n",
    "    // If middleName is null then MiddleName?[0] is null and in string it will become empty string.\n",
    "    public string FullName1 => $\"{FirstName} {MiddleName?[0]} {LastName}\";\n",
    "\n",
    "}"
   ]
  },
  {
   "cell_type": "markdown",
   "metadata": {},
   "source": [
    "# Indices and Ranges\n",
    "* Two new types:\n",
    "    1. Index refers to single position\n",
    "        * Points into some array or similar types which can be indexed. \n",
    "        * It has `Value` and `IsFromEnd` properties\n",
    "    2. Range refers to range of positions\n",
    "        * It is 2 indices\n",
    "        * Syntax = `X..Y` from index X to Y."
   ]
  },
  {
   "cell_type": "code",
   "execution_count": 23,
   "metadata": {
    "dotnet_interactive": {
     "language": "csharp"
    },
    "polyglot_notebook": {
     "kernelName": "csharp"
    }
   },
   "outputs": [
    {
     "name": "stdout",
     "output_type": "stream",
     "text": [
      "0\r\n"
     ]
    }
   ],
   "source": [
    "\n",
    "        //Indexes\n",
    "        Index i0 = 0;\n",
    "        Index i1 = new Index(1, false);\n",
    "        var i2 = ^0; // Index(0, true)\n",
    "\n",
    "        var items = new [] {1, 2, 3, 4, 5, 6, 7, 8, 9, 0};\n",
    "        var zero = items[^1];\n",
    "        Console.WriteLine(zero);\n",
    "        items[^1] = 10;\n",
    "        var arr = items[0..4]; // {1,2,3,4} end it is not included.\n",
    "        var arr1 = items[0..^1]; // {1,2,3,4,5} end is included."
   ]
  },
  {
   "cell_type": "markdown",
   "metadata": {},
   "source": [
    "# Default Interface Members\n",
    "* Non abstract methods can be added with implementation in interfaces.\n",
    "* Due to this:\n",
    "    1. Interface syntax extended to accept protected, internal, public and virtual.\n",
    "    2. default interface methods are virtual unless explicitly marked sealed/private.\n",
    "    3. Interface without bodies are abstract\n",
    "    4. interface can implement interfaces.\n",
    "\n"
   ]
  },
  {
   "cell_type": "code",
   "execution_count": 13,
   "metadata": {
    "dotnet_interactive": {
     "language": "csharp"
    },
    "polyglot_notebook": {
     "kernelName": "csharp"
    }
   },
   "outputs": [
    {
     "name": "stdout",
     "output_type": "stream",
     "text": [
      "Hello my name is \n",
      "Greetings my name is \n"
     ]
    }
   ],
   "source": [
    "public interface IHuman {\n",
    "    string Name {get; set;}\n",
    "\n",
    "    void SayHello(){\n",
    "        Console.WriteLine($\"Hello my name is {Name}\");\n",
    "    }\n",
    "}\n",
    "\n",
    "public interface IFriendlyHuman: IHuman{\n",
    "    void SayHello(){\n",
    "        Console.WriteLine($\"Greetings my name is {Name}\");\n",
    "    }\n",
    "}\n",
    "\n",
    "public class Human: IFriendlyHuman{\n",
    "    public string Name {get; set;}\n",
    "}\n",
    "\n",
    "    ((IHuman)new Human()).SayHello(); // Hello my name is abhishek\n",
    "    ((IFriendlyHuman)new Human()).SayHello(); // Greetings my name is abhishek \n",
    "\n",
    "    var human = new Human();\n",
    "    //human.SayHello(); On class object the default implemented method is not available it is available only on variables casted as that interface type.\n"
   ]
  },
  {
   "cell_type": "markdown",
   "metadata": {},
   "source": [
    "# Diamond Inheritance Problem with default interface method\n",
    "* IN below code this error will come: `Interface member 'ITalk.Greet()' does not have a most specific implementation. Neither 'IAmIndian.ITalk.Greet()', nor 'IAmAmerican.ITalk.Greet()' are most specific.`"
   ]
  },
  {
   "cell_type": "code",
   "execution_count": null,
   "metadata": {
    "dotnet_interactive": {
     "language": "csharp"
    },
    "polyglot_notebook": {
     "kernelName": "csharp"
    }
   },
   "outputs": [],
   "source": [
    "public interface ITalk{\n",
    "    string Greet();\n",
    "}\n",
    "\n",
    "interface IAmIndian: ITalk{\n",
    "    string ITalk.Greet() => \"Namaste\";\n",
    "}\n",
    "\n",
    "interface IAmAmerican: ITalk {\n",
    "    string ITalk.Greet() => \"Howdy\";\n",
    "}\n",
    "\n",
    "class DualNational : IAmIndian, IAmAmerican{\n",
    "    \n",
    "}\n",
    " "
   ]
  },
  {
   "cell_type": "markdown",
   "metadata": {},
   "source": [
    "# Pattern Matching\n",
    "* `Property Patterns Matching` were introduced as shown in PhoneNumber example.\n",
    "* `Recursive Pattern Matching` were introduced so we can go in nested object and match `{PhoneNumber: {Code: 91}} => \"India` . Here we can have `variable` declarations as well. `{Name: var name} => $\"No Idea where {name} lives\"`\n",
    "\n",
    "## Switch based validations \n",
    "```csharp\n",
    "var error = person switch {\n",
    "    null => \"object Missing\",\n",
    "    {PhoneNumber: null} => \"Phone number is missing entirely\", \n",
    "    {PhoneNumber: {Number: 0}} => \"Number is missing\",\n",
    "    {PhoneNumber: {Code: var code}} => when code < 0 => \"WTF?\",\n",
    "    {} => null //no error\n",
    "};\n",
    "\n",
    "    if(error != null)\n",
    "        throw new ArgumentException(error);\n",
    "```\n",
    "\n",
    "## Recursive Type Check with Pattern Matching\n",
    "```csharp\n",
    "IEnumerable<int> GetMainOfficeNumbers(){\n",
    "    foreach(Var ph in numbers){\n",
    "        if(ph is ExtendedPhoneNumber {Office: 'main'}) // type and value matching\n",
    "            yield return ph.Number;\n",
    "    }\n",
    "}\n",
    "```"
   ]
  },
  {
   "cell_type": "code",
   "execution_count": 26,
   "metadata": {
    "dotnet_interactive": {
     "language": "csharp"
    },
    "polyglot_notebook": {
     "kernelName": "csharp"
    }
   },
   "outputs": [
    {
     "ename": "Error",
     "evalue": "(21,5): error CS8510: The pattern is unreachable. It has already been handled by a previous arm of the switch expression or it is impossible to match.\r\n(22,5): error CS8510: The pattern is unreachable. It has already been handled by a previous arm of the switch expression or it is impossible to match.\r\n(23,5): error CS8510: The pattern is unreachable. It has already been handled by a previous arm of the switch expression or it is impossible to match.",
     "output_type": "error",
     "traceback": [
      "(21,5): error CS8510: The pattern is unreachable. It has already been handled by a previous arm of the switch expression or it is impossible to match.\r\n",
      "(22,5): error CS8510: The pattern is unreachable. It has already been handled by a previous arm of the switch expression or it is impossible to match.\r\n",
      "(23,5): error CS8510: The pattern is unreachable. It has already been handled by a previous arm of the switch expression or it is impossible to match."
     ]
    }
   ],
   "source": [
    "#nullable disable\n",
    "public struct PhoneNumber {\n",
    "    public int Code, Number;\n",
    "}\n",
    "\n",
    "var phoneNumber = new PhoneNumber(){\n",
    "    Code = 91,\n",
    "    Number = 12345332\n",
    "};\n",
    "\n",
    "// if nothing is match then c# would throw an exception. Switch expression exception.\n",
    "var origin = phoneNumber switch {\n",
    "    {Number: 112} => \"Emergency\",\n",
    "    {Code: 91} => \"India\"\n",
    "};\n",
    "\n",
    "Console.WriteLine(origin);\n",
    "// fix for warning\n",
    "var origin1 = phoneNumber switch {\n",
    "    {Number: 112} => \"Emergency\",\n",
    "    {Code: 91} => \"India\",\n",
    "    {} => \"Intermediate\",// phone number is not null but doesn't match any case\n",
    "};"
   ]
  }
 ],
 "metadata": {
  "kernelspec": {
   "display_name": ".NET (C#)",
   "language": "C#",
   "name": ".net-csharp"
  },
  "language_info": {
   "name": "polyglot-notebook"
  },
  "polyglot_notebook": {
   "kernelInfo": {
    "defaultKernelName": "csharp",
    "items": [
     {
      "aliases": [],
      "languageName": "csharp",
      "name": "csharp"
     }
    ]
   }
  }
 },
 "nbformat": 4,
 "nbformat_minor": 2
}
