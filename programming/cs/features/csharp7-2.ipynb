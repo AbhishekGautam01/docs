{
 "cells": [
  {
   "cell_type": "markdown",
   "metadata": {},
   "source": [
    "# Leading Digit Seperators\n",
    "* When writing binary literals we would start with 0b and continue writing and we couldn't have _ after 0b.\n",
    "* Now 7.2 we can `var x = 0b_1111_0000; var y = 0x_baad_f00d;`"
   ]
  },
  {
   "cell_type": "markdown",
   "metadata": {},
   "source": [
    "# Private Protected Access Modifier"
   ]
  },
  {
   "cell_type": "code",
   "execution_count": 2,
   "metadata": {
    "dotnet_interactive": {
     "language": "csharp"
    },
    "polyglot_notebook": {
     "kernelName": "csharp"
    }
   },
   "outputs": [],
   "source": [
    "public class Base{\n",
    "    private int a;\n",
    "    protected internal int b{get; set;} // dervied classes(any assembly) or same assembly.\n",
    "    private protected int c; // Containing class. & dervied classes but only in current assembly.\n",
    "}"
   ]
  },
  {
   "cell_type": "markdown",
   "metadata": {},
   "source": [
    "# Non Trailing Named arguments"
   ]
  },
  {
   "cell_type": "code",
   "execution_count": 3,
   "metadata": {
    "dotnet_interactive": {
     "language": "csharp"
    },
    "polyglot_notebook": {
     "kernelName": "csharp"
    }
   },
   "outputs": [],
   "source": [
    "public class Program {\n",
    "    static void DoSomething(int foo, int bar){\n",
    "\n",
    "    }\n",
    "\n",
    "    static void Main(string[] args){\n",
    "        DoSomething(33, bar: 22);\n",
    "\n",
    "        // Below code was not available untill 7.2 as per requirement before the names argument should come after the positional ones. this doensn't allow to change the order of argument.\n",
    "        DoSomething(foo: 33, 44);\n",
    "\n",
    "        //Order can be broken if we name every single argument\n",
    "        DoSomething(bar: 44, foo: 33);\n",
    "    }\n",
    "}"
   ]
  },
  {
   "cell_type": "markdown",
   "metadata": {},
   "source": [
    "# In Parameter\n",
    "* structure should be passed by reference to save memeory as compare to current way where copy os structure is made. \n",
    "* In keyword makes the structure readonly.It cannot be modified from within the method, it cannot be passed as reference param to other method using ref.\n",
    "* It there is mutating method inside struct like Reset() then those method can be called on in param variables, but such will cause a copy of variable so original value will not be modified. "
   ]
  },
  {
   "cell_type": "code",
   "execution_count": 4,
   "metadata": {
    "dotnet_interactive": {
     "language": "csharp"
    },
    "polyglot_notebook": {
     "kernelName": "csharp"
    }
   },
   "outputs": [
    {
     "ename": "Error",
     "evalue": "(22,62): error CS1003: Syntax error, ',' expected\r\n(22,64): error CS1001: Identifier expected",
     "output_type": "error",
     "traceback": [
      "(22,62): error CS1003: Syntax error, ',' expected\r\n",
      "(22,64): error CS1001: Identifier expected"
     ]
    }
   ],
   "source": [
    "public class Program{\n",
    "\n",
    "    struct Point {\n",
    "        public double X,Y;\n",
    "        public Point(double x, double y){\n",
    "            X= x;\n",
    "            Y = y;\n",
    "        }\n",
    "\n",
    "        public override string ToString(){\n",
    "            return $\"{X} {Y}\";\n",
    "        }\n",
    "    }\n",
    "\n",
    "    // here in this when we pass p1 & p2 4 double memory will ne reserved and passed. \n",
    "    double MeausreDifference(Point p1, Point p2){\n",
    "        var dX = p1.X - p2.X;\n",
    "        var dY = p1.Y - p2.Y;\n",
    "        return Math.Sqrt(dX* dX + dY * dY);\n",
    "    }\n",
    "\n",
    "    double MeausreDifferenceReference(in Point p1, in Point p2){\n",
    "        var dX = p1.X - p2.X;\n",
    "        var dY = p1.y - p2.Y;\n",
    "        return Math.Sqrt(dX* dX + dY * dY);\n",
    "    }\n",
    "\n",
    "    static void Main(string[] args){\n",
    "        var p1 = new Point(1,1);\n",
    "        var p2 = new Point(4,5);\n",
    "\n",
    "    }\n",
    "}"
   ]
  },
  {
   "cell_type": "markdown",
   "metadata": {},
   "source": [
    "# ref readonly variables.\n",
    "* If we use a ref readonly on a value type\n",
    "```csharp\n",
    "    private static Point origin = new Point();\n",
    "    public static ref readonly Point originRef => ref origin; \n",
    "```"
   ]
  }
 ],
 "metadata": {
  "kernelspec": {
   "display_name": ".NET (C#)",
   "language": "C#",
   "name": ".net-csharp"
  },
  "language_info": {
   "name": "polyglot-notebook"
  },
  "polyglot_notebook": {
   "kernelInfo": {
    "defaultKernelName": "csharp",
    "items": [
     {
      "aliases": [],
      "languageName": "csharp",
      "name": "csharp"
     }
    ]
   }
  }
 },
 "nbformat": 4,
 "nbformat_minor": 2
}
