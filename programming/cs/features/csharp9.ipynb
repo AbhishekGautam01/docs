{
 "cells": [
  {
   "cell_type": "markdown",
   "metadata": {},
   "source": [
    "# C# 9\n",
    "* Sim-shipped with .NET 5\n",
    "* New Features\n",
    "    * Record Types\n",
    "    * Top-level calls\n",
    "    * Initial Setters - readonly to properties\n",
    "    * pattern matching improvements\n",
    "\n",
    "## Records\n",
    "* Records use structural equality means comparison is by member to member.\n",
    "* "
   ]
  },
  {
   "cell_type": "code",
   "execution_count": 8,
   "metadata": {
    "dotnet_interactive": {
     "language": "csharp"
    },
    "polyglot_notebook": {
     "kernelName": "csharp"
    }
   },
   "outputs": [
    {
     "name": "stdout",
     "output_type": "stream",
     "text": [
      "Person { Name = Abhishek, Age = 22 }\n",
      "True\n",
      "- get_Name\n",
      "- set_Name\n",
      "- get_Age\n",
      "- set_Age\n",
      "- ToString\n",
      "- op_Inequality\n",
      "- op_Equality\n",
      "- GetHashCode\n",
      "- Equals\n",
      "- Equals\n",
      "- <Clone>$\n",
      "- GetType\n",
      "- .ctor\n",
      "- Name\n",
      "- Age\n"
     ]
    }
   ],
   "source": [
    "public record Person{\n",
    "    public string Name {get; set;}\n",
    "    public int Age {get; set;}\n",
    "}\n",
    "\n",
    "var p = new Person{Name = \"Abhishek\", Age = 22};\n",
    "Console.WriteLine(p); // behind scene it has print implementation members which print this information\n",
    "\n",
    "var p2 = new Person {Name = \"Abhishek\", Age = 22};\n",
    "Console.WriteLine(p == p2); // comparision by each member of the record. this comparision will happen if it has nested records\n",
    "\n",
    "var t = typeof(Person);\n",
    "foreach(var m in t.GetMembers()){\n",
    "    Console.WriteLine($\"- {m.Name}\");\n",
    "}\n",
    "\n",
    "// POSITIONAL records\n",
    "public record Point(int X, int Y);\n",
    "var origin = new Point(0,0);\n",
    "var (X,Y ) = origin;\n",
    "\n",
    "// COpy of record with something modified\n",
    "public record Car {\n",
    "    public string Color {get; set;}\n",
    "    public string Engine {get; set;}\n",
    "}\n",
    "\n",
    "Car myFirstCar = new () {Color = \"Black\", Engine = \"v6\"};\n",
    "Car upgradedCar = myFirstCar with {Engine = \"v8\"}; // this is shallow copy"
   ]
  },
  {
   "cell_type": "markdown",
   "metadata": {},
   "source": [
    "# Top Level Calls\n",
    "* It exists in many other language\n",
    "* we can define  members, classes, methods. \n",
    "* Top level statement must be before type declaration like adding a class.\n",
    "* We can have return statements\n",
    "* we have access to args which is passed to main method. "
   ]
  },
  {
   "cell_type": "code",
   "execution_count": null,
   "metadata": {
    "dotnet_interactive": {
     "language": "csharp"
    },
    "polyglot_notebook": {
     "kernelName": "csharp"
    }
   },
   "outputs": [],
   "source": [
    "using System;\n",
    "Console.WriteLine(\"Main method is not required but behind the scene class gets a main method.\");\n",
    "Foo();\n",
    "\n",
    "void Foo(){\n",
    "    Console.WriteLine(\"Bar\");\n",
    "}\n",
    "Foo();\n",
    "\n",
    "//Console.WriteLine(args.Lenght);\n",
    "await Task.CompletedTask; //await is also required as main method can be async\n",
    "\n",
    "class Person{}\n"
   ]
  }
 ],
 "metadata": {
  "kernelspec": {
   "display_name": ".NET (C#)",
   "language": "C#",
   "name": ".net-csharp"
  },
  "language_info": {
   "name": "polyglot-notebook"
  },
  "polyglot_notebook": {
   "kernelInfo": {
    "defaultKernelName": "csharp",
    "items": [
     {
      "aliases": [],
      "languageName": "csharp",
      "name": "csharp"
     }
    ]
   }
  }
 },
 "nbformat": 4,
 "nbformat_minor": 2
}
